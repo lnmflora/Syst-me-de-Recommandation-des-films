{
 "cells": [
  {
   "cell_type": "code",
   "execution_count": 1,
   "metadata": {},
   "outputs": [],
   "source": [
    "import pandas as pd\n",
    "import numpy as np\n",
    "import seaborn as sns\n",
    "import matplotlib.pyplot as plt\n",
    "\n",
    "sns.set_style('darkgrid')\n",
    "\n",
    "from matplotlib import style \n",
    "style.use('ggplot') or plt.style.use('ggplot')"
   ]
  },
  {
   "cell_type": "code",
   "execution_count": 4,
   "metadata": {},
   "outputs": [
    {
     "data": {
      "text/html": [
       "<div>\n",
       "<style scoped>\n",
       "    .dataframe tbody tr th:only-of-type {\n",
       "        vertical-align: middle;\n",
       "    }\n",
       "\n",
       "    .dataframe tbody tr th {\n",
       "        vertical-align: top;\n",
       "    }\n",
       "\n",
       "    .dataframe thead th {\n",
       "        text-align: right;\n",
       "    }\n",
       "</style>\n",
       "<table border=\"1\" class=\"dataframe\">\n",
       "  <thead>\n",
       "    <tr style=\"text-align: right;\">\n",
       "      <th></th>\n",
       "      <th>Unnamed: 0</th>\n",
       "      <th>movieId</th>\n",
       "      <th>genres</th>\n",
       "      <th>imdbId</th>\n",
       "      <th>year</th>\n",
       "      <th>actors</th>\n",
       "      <th>director</th>\n",
       "      <th>rating</th>\n",
       "      <th>titre</th>\n",
       "      <th>Action</th>\n",
       "      <th>...</th>\n",
       "      <th>Musical</th>\n",
       "      <th>Mystery</th>\n",
       "      <th>Romance</th>\n",
       "      <th>Sci-Fi</th>\n",
       "      <th>Thriller</th>\n",
       "      <th>War</th>\n",
       "      <th>Western</th>\n",
       "      <th>primaryName</th>\n",
       "      <th>year.str</th>\n",
       "      <th>Total infos</th>\n",
       "    </tr>\n",
       "  </thead>\n",
       "  <tbody>\n",
       "    <tr>\n",
       "      <th>0</th>\n",
       "      <td>0</td>\n",
       "      <td>1</td>\n",
       "      <td>Adventure, Animation, Children, Comedy, Fantasy</td>\n",
       "      <td>tt0114709</td>\n",
       "      <td>1995</td>\n",
       "      <td>Tom Hanks, Tim Allen, Jim Varney, Don Rickles</td>\n",
       "      <td>John Lasseter</td>\n",
       "      <td>3.92093</td>\n",
       "      <td>Toy Story</td>\n",
       "      <td>0</td>\n",
       "      <td>...</td>\n",
       "      <td>0</td>\n",
       "      <td>0</td>\n",
       "      <td>0</td>\n",
       "      <td>0</td>\n",
       "      <td>0</td>\n",
       "      <td>0</td>\n",
       "      <td>0</td>\n",
       "      <td>Tom Hanks</td>\n",
       "      <td>1995</td>\n",
       "      <td>Toy Story , 1995, Tom Hanks, Tim Allen, Jim Va...</td>\n",
       "    </tr>\n",
       "    <tr>\n",
       "      <th>1</th>\n",
       "      <td>1</td>\n",
       "      <td>1</td>\n",
       "      <td>Adventure, Animation, Children, Comedy, Fantasy</td>\n",
       "      <td>tt0114709</td>\n",
       "      <td>1995</td>\n",
       "      <td>Tom Hanks, Tim Allen, Jim Varney, Don Rickles</td>\n",
       "      <td>John Lasseter</td>\n",
       "      <td>3.92093</td>\n",
       "      <td>Toy Story</td>\n",
       "      <td>0</td>\n",
       "      <td>...</td>\n",
       "      <td>0</td>\n",
       "      <td>0</td>\n",
       "      <td>0</td>\n",
       "      <td>0</td>\n",
       "      <td>0</td>\n",
       "      <td>0</td>\n",
       "      <td>0</td>\n",
       "      <td>Tim Allen</td>\n",
       "      <td>1995</td>\n",
       "      <td>Toy Story , 1995, Tom Hanks, Tim Allen, Jim Va...</td>\n",
       "    </tr>\n",
       "  </tbody>\n",
       "</table>\n",
       "<p>2 rows × 31 columns</p>\n",
       "</div>"
      ],
      "text/plain": [
       "   Unnamed: 0  movieId                                           genres  \\\n",
       "0           0        1  Adventure, Animation, Children, Comedy, Fantasy   \n",
       "1           1        1  Adventure, Animation, Children, Comedy, Fantasy   \n",
       "\n",
       "      imdbId  year                                         actors  \\\n",
       "0  tt0114709  1995  Tom Hanks, Tim Allen, Jim Varney, Don Rickles   \n",
       "1  tt0114709  1995  Tom Hanks, Tim Allen, Jim Varney, Don Rickles   \n",
       "\n",
       "        director   rating       titre  Action  ...  Musical  Mystery  Romance  \\\n",
       "0  John Lasseter  3.92093  Toy Story        0  ...        0        0        0   \n",
       "1  John Lasseter  3.92093  Toy Story        0  ...        0        0        0   \n",
       "\n",
       "   Sci-Fi  Thriller  War  Western  primaryName  year.str  \\\n",
       "0       0         0    0        0    Tom Hanks      1995   \n",
       "1       0         0    0        0    Tim Allen      1995   \n",
       "\n",
       "                                         Total infos  \n",
       "0  Toy Story , 1995, Tom Hanks, Tim Allen, Jim Va...  \n",
       "1  Toy Story , 1995, Tom Hanks, Tim Allen, Jim Va...  \n",
       "\n",
       "[2 rows x 31 columns]"
      ]
     },
     "execution_count": 4,
     "metadata": {},
     "output_type": "execute_result"
    }
   ],
   "source": [
    "myMovies = pd.read_csv('/Users/mailuu/Documents/Formation DataAnalyst - Wild Code Shool/Projet 3/Dataset deja traite/test dashboard et ML.csv')\n",
    "myMovies.head(2)"
   ]
  },
  {
   "cell_type": "code",
   "execution_count": null,
   "metadata": {},
   "outputs": [],
   "source": [
    "#myMovies['Total infos'] = myMovies['Total infos'] + ', ' + myMovies['imdbId']\n",
    "#myMovies.head(2)"
   ]
  },
  {
   "cell_type": "markdown",
   "metadata": {},
   "source": [
    "# Dataviz"
   ]
  },
  {
   "cell_type": "code",
   "execution_count": 3,
   "metadata": {},
   "outputs": [
    {
     "name": "stdout",
     "output_type": "stream",
     "text": [
      "insert a name Cameron Diaz\n"
     ]
    },
    {
     "data": {
      "text/plain": [
       "Text(0.5, 1.0, 'Les genres de film que Cameron Diaz y a participé')"
      ]
     },
     "execution_count": 3,
     "metadata": {},
     "output_type": "execute_result"
    },
    {
     "data": {
      "image/png": "[encoded data removed]",
      "text/plain": [
       "<Figure size 1080x576 with 1 Axes>"
      ]
     },
     "metadata": {
      "needs_background": "light"
     },
     "output_type": "display_data"
    },
    {
     "data": {
      "image/png": "[encoded data removed]",
      "text/plain": [
       "<Figure size 1080x576 with 1 Axes>"
      ]
     },
     "metadata": {
      "needs_background": "light"
     },
     "output_type": "display_data"
    }
   ],
   "source": [
    "text = input('insert a name ')\n",
    "df1 = pd.DataFrame(myMovies[myMovies['primaryName'] == text].groupby(['year'])['titre'].count()).reset_index()\n",
    "plt.figure(figsize = (15,8))\n",
    "sns.barplot('year', 'titre', data = df1, palette = \"ch:2.5,-.2,dark=.3\")\n",
    "plt.xlabel('Année', fontsize =18)\n",
    "plt.ylabel('Nombre de films', fontsize=18)\n",
    "plt.title('Nombre de film que {} a participé chaque année'.format(text), fontsize=20)\n",
    "\n",
    "\n",
    "df2 = pd.DataFrame(myMovies[myMovies['primaryName'] == text].sum()).reset_index().loc[9:27, : ]\n",
    "plt.figure(figsize = (15,8))\n",
    "sns.barplot('index', 0, data = df2)\n",
    "plt.xlabel('Genres de films' , fontsize =18)\n",
    "plt.ylabel('Nombre de films', fontsize=18)\n",
    "plt.title('Les genres de film que {} y a participé'.format(text), fontsize = 20)"
   ]
  },
  {
   "cell_type": "markdown",
   "metadata": {},
   "source": [
    "# Modèle de Recommandation par Vectorisation"
   ]
  },
  {
   "cell_type": "code",
   "execution_count": 5,
   "metadata": {},
   "outputs": [
    {
     "data": {
      "text/html": [
       "<div>\n",
       "<style scoped>\n",
       "    .dataframe tbody tr th:only-of-type {\n",
       "        vertical-align: middle;\n",
       "    }\n",
       "\n",
       "    .dataframe tbody tr th {\n",
       "        vertical-align: top;\n",
       "    }\n",
       "\n",
       "    .dataframe thead th {\n",
       "        text-align: right;\n",
       "    }\n",
       "</style>\n",
       "<table border=\"1\" class=\"dataframe\">\n",
       "  <thead>\n",
       "    <tr style=\"text-align: right;\">\n",
       "      <th></th>\n",
       "      <th>movieId</th>\n",
       "      <th>Total infos</th>\n",
       "    </tr>\n",
       "  </thead>\n",
       "  <tbody>\n",
       "    <tr>\n",
       "      <th>0</th>\n",
       "      <td>1</td>\n",
       "      <td>Toy Story , 1995, Tom Hanks, Tim Allen, Jim Va...</td>\n",
       "    </tr>\n",
       "    <tr>\n",
       "      <th>10</th>\n",
       "      <td>2</td>\n",
       "      <td>Jumanji , 1995, Robin Williams, Kirsten Dunst,...</td>\n",
       "    </tr>\n",
       "    <tr>\n",
       "      <th>20</th>\n",
       "      <td>3</td>\n",
       "      <td>Grumpier Old Men , 1995, Sophia Loren, Ann-Mar...</td>\n",
       "    </tr>\n",
       "    <tr>\n",
       "      <th>30</th>\n",
       "      <td>4</td>\n",
       "      <td>Waiting to Exhale , 1995, Angela Bassett, Whit...</td>\n",
       "    </tr>\n",
       "    <tr>\n",
       "      <th>40</th>\n",
       "      <td>5</td>\n",
       "      <td>Father of the Bride Part II , 1995, Steve Mart...</td>\n",
       "    </tr>\n",
       "  </tbody>\n",
       "</table>\n",
       "</div>"
      ],
      "text/plain": [
       "    movieId                                        Total infos\n",
       "0         1  Toy Story , 1995, Tom Hanks, Tim Allen, Jim Va...\n",
       "10        2  Jumanji , 1995, Robin Williams, Kirsten Dunst,...\n",
       "20        3  Grumpier Old Men , 1995, Sophia Loren, Ann-Mar...\n",
       "30        4  Waiting to Exhale , 1995, Angela Bassett, Whit...\n",
       "40        5  Father of the Bride Part II , 1995, Steve Mart..."
      ]
     },
     "execution_count": 5,
     "metadata": {},
     "output_type": "execute_result"
    }
   ],
   "source": [
    "myMoviesML = myMovies[['movieId', 'Total infos']].drop_duplicates(subset = 'movieId', keep = 'first')\n",
    "myMoviesML.head()"
   ]
  },
  {
   "cell_type": "code",
   "execution_count": 6,
   "metadata": {},
   "outputs": [
    {
     "data": {
      "text/plain": [
       "Pipeline(memory=None,\n",
       "         steps=[('vect',\n",
       "                 CountVectorizer(analyzer='word', binary=False,\n",
       "                                 decode_error='strict',\n",
       "                                 dtype=<class 'numpy.int64'>, encoding='utf-8',\n",
       "                                 input='content', lowercase=True, max_df=1.0,\n",
       "                                 max_features=None, min_df=1,\n",
       "                                 ngram_range=(1, 1), preprocessor=None,\n",
       "                                 stop_words=None, strip_accents=None,\n",
       "                                 token_pattern='(?u)\\\\b\\\\w\\\\w+\\\\b',\n",
       "                                 tokenizer=None, vocabulary=Non...\n",
       "                 SGDClassifier(alpha=0.001, average=False, class_weight=None,\n",
       "                               early_stopping=False, epsilon=0.1, eta0=0.0,\n",
       "                               fit_intercept=True, l1_ratio=0.15,\n",
       "                               learning_rate='optimal', loss='modified_huber',\n",
       "                               max_iter=5, n_iter_no_change=5, n_jobs=None,\n",
       "                               penalty='l2', power_t=0.5, random_state=42,\n",
       "                               shuffle=True, tol=None, validation_fraction=0.1,\n",
       "                               verbose=0, warm_start=False))],\n",
       "         verbose=False)"
      ]
     },
     "execution_count": 6,
     "metadata": {},
     "output_type": "execute_result"
    }
   ],
   "source": [
    "from sklearn.feature_extraction.text import CountVectorizer\n",
    "from sklearn.feature_extraction.text import TfidfTransformer\n",
    "from sklearn.linear_model import SGDClassifier\n",
    "from sklearn.pipeline import Pipeline\n",
    "\n",
    "\n",
    "text_clf = Pipeline([\n",
    "     ('vect', CountVectorizer()),\n",
    "     ('tfidf', TfidfTransformer()),\n",
    "     ('clf', SGDClassifier(loss='modified_huber', penalty='l2',\n",
    "                           alpha=1e-3,\n",
    "                           random_state=42,\n",
    "                           #shuffle=False,\n",
    "                           max_iter=5, tol=None)),\n",
    "])\n",
    "\n",
    "\n",
    "titles = []\n",
    "for a in myMoviesML['Total infos']:\n",
    "  titles.append(a)\n",
    "\n",
    "text_clf.fit(titles, titles)"
   ]
  },
  {
   "cell_type": "code",
   "execution_count": 7,
   "metadata": {},
   "outputs": [
    {
     "data": {
      "text/plain": [
       "0.9997908606085957"
      ]
     },
     "execution_count": 7,
     "metadata": {},
     "output_type": "execute_result"
    }
   ],
   "source": [
    "predicted = text_clf.predict(titles)\n",
    "np.mean(predicted == titles)"
   ]
  },
  {
   "cell_type": "code",
   "execution_count": 8,
   "metadata": {},
   "outputs": [],
   "source": [
    "def get_closest_results(text, n_results):\n",
    "  probas = text_clf.predict_proba([text])\n",
    "  max_proba_indices = probas[0].argsort()[-n_results:]\n",
    "  last = len(max_proba_indices) - 1\n",
    "  out = []\n",
    "  for i in range(last, last - n_results, -1) :\n",
    "    out.append(text_clf.classes_[max_proba_indices[i]])\n",
    "  return out"
   ]
  },
  {
   "cell_type": "code",
   "execution_count": null,
   "metadata": {},
   "outputs": [],
   "source": [
    "\"\"\"\n",
    "add_text = input('Tapez un mot clé: ')\n",
    "print(\"--------------------------\")\n",
    "\n",
    "search_results = get_closest_results(add_text, 5)\n",
    "for r in search_results:\n",
    "  print(r)\n",
    "\"\"\""
   ]
  },
  {
   "cell_type": "markdown",
   "metadata": {},
   "source": [
    "# TKinter"
   ]
  },
  {
   "cell_type": "code",
   "execution_count": 9,
   "metadata": {},
   "outputs": [
    {
     "name": "stdout",
     "output_type": "stream",
     "text": [
      "calling results ...\n"
     ]
    }
   ],
   "source": [
    "import tkinter as tk\n",
    "\n",
    "root= tk.Tk()\n",
    "\n",
    "canvas1 = tk.Canvas(root, width = 400, height = 500,  relief = 'raised')\n",
    "canvas1.pack()\n",
    "\n",
    "label1 = tk.Label(root, text='Proposition des films')\n",
    "label1.config(font=('helvetica', 14))\n",
    "canvas1.create_window(200, 25, window=label1)\n",
    "\n",
    "label2 = tk.Label(root, text='Tapez un mot clé :', width=200)\n",
    "label2.config(font=('helvetica', 10))\n",
    "canvas1.create_window(200, 100, window=label2)\n",
    "\n",
    "entry1 = tk.Entry(root) \n",
    "canvas1.create_window(200, 140, window=entry1)\n",
    "\n",
    "def print_result(text):\n",
    "    print(\"calling results ...\")\n",
    "    name = get_closest_results(text, 5)\n",
    "    out = \"\"\n",
    "    for r in name:\n",
    "        out += r\n",
    "        out += \"\\n\\n\"\n",
    "    return out\n",
    "        \n",
    "def getResults():\n",
    "    x1 = entry1.get()\n",
    "    \n",
    "    label3 = tk.Label(root, text= 'Vous pourriez aimez ',font=('helvetica', 10))\n",
    "    canvas1.create_window(200, 210, window=label3)\n",
    "    \n",
    "    resultsWidget = tk.Message(root, text = print_result(x1),\n",
    "                               font=('helvetica', 10, 'bold'), width=390)\n",
    "    canvas1.create_window(200, 350, window=resultsWidget)\n",
    " \n",
    "\n",
    "button1 = tk.Button(root\n",
    "                    , text='Soumettre'\n",
    "                    , command=getResults\n",
    "                    #, bg='#0052cc', fg='#ffffff'\n",
    "                    , font=('helvetica', 9, 'bold')\n",
    "                   )\n",
    "canvas1.create_window(200, 180, window=button1)\n",
    "\n",
    "root.mainloop()"
   ]
  },
  {
   "cell_type": "code",
   "execution_count": null,
   "metadata": {},
   "outputs": [],
   "source": []
  }
 ],
 "metadata": {
  "kernelspec": {
   "display_name": "Python 3",
   "language": "python",
   "name": "python3"
  },
  "language_info": {
   "codemirror_mode": {
    "name": "ipython",
    "version": 3
   },
   "file_extension": ".py",
   "mimetype": "text/x-python",
   "name": "python",
   "nbconvert_exporter": "python",
   "pygments_lexer": "ipython3",
   "version": "3.7.7"
  }
 },
 "nbformat": 4,
 "nbformat_minor": 2
}
